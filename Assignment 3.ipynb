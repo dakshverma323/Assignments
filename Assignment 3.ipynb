{
 "cells": [
  {
   "cell_type": "code",
   "execution_count": 2,
   "metadata": {},
   "outputs": [
    {
     "name": "stdout",
     "output_type": "stream",
     "text": [
      "answer from myreduce: 21\n",
      "answer from reduce: 21\n"
     ]
    }
   ],
   "source": [
    "items=[1,2,3,4,5,6]\n",
    "def myreduce(func,items):\n",
    "    res=items[0]\n",
    "    for i in items[1:]:\n",
    "        res=func(res,i)\n",
    "    return res\n",
    "\n",
    "def func(x,y):\n",
    "    return x+y\n",
    "\n",
    "ans=myreduce(func,items)\n",
    "print('answer from myreduce:',ans)\n",
    "\n",
    "import functools\n",
    "ans2=functools.reduce(func,items)\n",
    "print('answer from reduce:',ans2)"
   ]
  },
  {
   "cell_type": "code",
   "execution_count": 3,
   "metadata": {},
   "outputs": [
    {
     "name": "stdout",
     "output_type": "stream",
     "text": [
      "[3, 4, 5, 6]\n"
     ]
    }
   ],
   "source": [
    "items=[1,2,3,4,5,6]\n",
    "def myfilter(func,items):\n",
    "    res=[]\n",
    "    for i in items:\n",
    "        if func(i)==True:\n",
    "            res.append(i)\n",
    "    return res\n",
    "\n",
    "def func(x):\n",
    "    if(x>2):\n",
    "        return True \n",
    "    else: return False\n",
    "\n",
    "ans=myfilter(func,items)\n",
    "print(ans)"
   ]
  },
  {
   "cell_type": "code",
   "execution_count": null,
   "metadata": {},
   "outputs": [],
   "source": []
  }
 ],
 "metadata": {
  "kernelspec": {
   "display_name": "Python 3",
   "language": "python",
   "name": "python3"
  },
  "language_info": {
   "codemirror_mode": {
    "name": "ipython",
    "version": 3
   },
   "file_extension": ".py",
   "mimetype": "text/x-python",
   "name": "python",
   "nbconvert_exporter": "python",
   "pygments_lexer": "ipython3",
   "version": "3.7.6"
  }
 },
 "nbformat": 4,
 "nbformat_minor": 4
}
